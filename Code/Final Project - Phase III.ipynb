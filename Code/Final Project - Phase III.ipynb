{
 "cells": [
  {
   "cell_type": "markdown",
   "metadata": {},
   "source": [
    "# Final Project\n",
    "## Phase I"
   ]
  },
  {
   "cell_type": "markdown",
   "metadata": {},
   "source": [
    "### Import Necessary Packages"
   ]
  },
  {
   "cell_type": "code",
   "execution_count": 1,
   "metadata": {},
   "outputs": [],
   "source": [
    "import pandas as pd\n",
    "import numpy as np\n",
    "import matplotlib.pyplot as plt\n",
    "from sklearn.cluster import KMeans\n",
    "from sklearn.preprocessing import StandardScaler\n",
    "from sklearn.pipeline import make_pipeline\n",
    "import seaborn as sns"
   ]
  },
  {
   "cell_type": "markdown",
   "metadata": {},
   "source": [
    "### Import the data using its location in the Github Repository"
   ]
  },
  {
   "cell_type": "code",
   "execution_count": 2,
   "metadata": {},
   "outputs": [],
   "source": [
    "d = 'https://raw.github.com/gnagendr/G11_Final_Assignment/master/Data/Breast-Cancer-Wisconsin.csv'\n",
    "data = pd.read_csv(d, index_col=0, sep = ',')"
   ]
  },
  {
   "cell_type": "markdown",
   "metadata": {},
   "source": [
    "### Replace invalid values in column for A7 variable with NaN"
   ]
  },
  {
   "cell_type": "code",
   "execution_count": 3,
   "metadata": {},
   "outputs": [],
   "source": [
    "data['A7'] = data['A7'].astype(str)\n",
    "data['A7'] = data['A7'].replace('?',np.NaN)\n",
    "data['A7'] = pd.to_numeric(data['A7'])"
   ]
  },
  {
   "cell_type": "markdown",
   "metadata": {},
   "source": [
    "### Determine the number of NaN variables for variable A7"
   ]
  },
  {
   "cell_type": "code",
   "execution_count": 4,
   "metadata": {},
   "outputs": [
    {
     "name": "stdout",
     "output_type": "stream",
     "text": [
      "Number of NaN Values in column A7:  16 \n",
      "\n"
     ]
    }
   ],
   "source": [
    "print(\"Number of NaN Values in column A7: \",sum(pd.isnull(data['A7'])), \"\\n\")"
   ]
  },
  {
   "cell_type": "markdown",
   "metadata": {},
   "source": [
    "### Replace missing values in A7 with the variable mean"
   ]
  },
  {
   "cell_type": "code",
   "execution_count": 5,
   "metadata": {},
   "outputs": [],
   "source": [
    "if data.isnull().values.any():\n",
    "    data = data.fillna(data['A7'].mean(skipna=True))"
   ]
  },
  {
   "cell_type": "markdown",
   "metadata": {},
   "source": [
    "### Display Dataset Summary Statistics"
   ]
  },
  {
   "cell_type": "code",
   "execution_count": 6,
   "metadata": {},
   "outputs": [
    {
     "name": "stdout",
     "output_type": "stream",
     "text": [
      "Summary Statistics:\n",
      "                A2          A3          A4          A5          A6          A7  \\\n",
      "count  699.000000  699.000000  699.000000  699.000000  699.000000  699.000000   \n",
      "mean     4.417740    3.134478    3.207439    2.806867    3.216023    3.544656   \n",
      "std      2.815741    3.051459    2.971913    2.855379    2.214300    3.601852   \n",
      "min      1.000000    1.000000    1.000000    1.000000    1.000000    1.000000   \n",
      "25%      2.000000    1.000000    1.000000    1.000000    2.000000    1.000000   \n",
      "50%      4.000000    1.000000    1.000000    1.000000    2.000000    1.000000   \n",
      "75%      6.000000    5.000000    5.000000    4.000000    4.000000    5.000000   \n",
      "max     10.000000   10.000000   10.000000   10.000000   10.000000   10.000000   \n",
      "\n",
      "               A8          A9         A10       CLASS  \n",
      "count  699.000000  699.000000  699.000000  699.000000  \n",
      "mean     3.437768    2.866953    1.589413    2.689557  \n",
      "std      2.438364    3.053634    1.715078    0.951273  \n",
      "min      1.000000    1.000000    1.000000    2.000000  \n",
      "25%      2.000000    1.000000    1.000000    2.000000  \n",
      "50%      3.000000    1.000000    1.000000    2.000000  \n",
      "75%      5.000000    4.000000    1.000000    4.000000  \n",
      "max     10.000000   10.000000   10.000000    4.000000  \n"
     ]
    }
   ],
   "source": [
    "print(\"Summary Statistics:\\n\",data.describe())"
   ]
  },
  {
   "cell_type": "markdown",
   "metadata": {},
   "source": [
    "### Display additional statistics about the data such as number of columns, number of observations/rows, and the number of unique values"
   ]
  },
  {
   "cell_type": "code",
   "execution_count": 7,
   "metadata": {},
   "outputs": [
    {
     "name": "stdout",
     "output_type": "stream",
     "text": [
      "Number of columns in data:\n",
      " 10\n"
     ]
    }
   ],
   "source": [
    "print(\"Number of columns in data:\\n\",data.shape[1])"
   ]
  },
  {
   "cell_type": "code",
   "execution_count": 8,
   "metadata": {},
   "outputs": [
    {
     "name": "stdout",
     "output_type": "stream",
     "text": [
      "Number of observations/rows in data:\n",
      " 699\n"
     ]
    }
   ],
   "source": [
    "print(\"Number of observations/rows in data:\\n\",data.shape[0])"
   ]
  },
  {
   "cell_type": "code",
   "execution_count": 9,
   "metadata": {},
   "outputs": [
    {
     "name": "stdout",
     "output_type": "stream",
     "text": [
      "Number of unique id values:\n",
      " 645\n"
     ]
    }
   ],
   "source": [
    "print(\"Number of unique id values:\\n\", len(data.index.get_level_values(0).unique()))"
   ]
  },
  {
   "cell_type": "code",
   "execution_count": 10,
   "metadata": {},
   "outputs": [
    {
     "name": "stdout",
     "output_type": "stream",
     "text": [
      "Variable Variation \n",
      " A2        7.928395\n",
      "A3        9.311403\n",
      "A4        8.832265\n",
      "A5        8.153191\n",
      "A6        4.903124\n",
      "A7       12.973335\n",
      "A8        5.945620\n",
      "A9        9.324680\n",
      "A10       2.941492\n",
      "CLASS     0.904919\n",
      "dtype: float64 \n",
      "\n"
     ]
    }
   ],
   "source": [
    "print(\"Variable Variation\", \"\\n\", data.var(axis = 0), \"\\n\")"
   ]
  },
  {
   "cell_type": "code",
   "execution_count": 11,
   "metadata": {},
   "outputs": [
    {
     "name": "stdout",
     "output_type": "stream",
     "text": [
      "Boxplot of Variables: \n",
      " AxesSubplot(0.125,0.125;0.775x0.755)\n"
     ]
    },
    {
     "data": {
      "image/png": "[encoded data removed]",
      "text/plain": [
       "<Figure size 432x288 with 1 Axes>"
      ]
     },
     "metadata": {},
     "output_type": "display_data"
    }
   ],
   "source": [
    "print(\"Boxplot of Variables:\", \"\\n\", data.boxplot())"
   ]
  },
  {
   "cell_type": "markdown",
   "metadata": {},
   "source": [
    "## Explanatory Data Analysis \n",
    "\n",
    "### From the Summary Statistics, we can observe that the variable A10 has variable very close to 1 or just 1. We can use data imputing technique to replace the higher values in this column by its mean.\n",
    "\n",
    "### A review of the variation within each variable shows that A7 has a considerable amount of variation and represents a clear candidate for standardization in future analysis. Variables A3 and A9 also stand out for the amount of variation they contain and could benefit from standardization"
   ]
  },
  {
   "cell_type": "markdown",
   "metadata": {},
   "source": [
    "### A series of 9 histograms which categorize and count the values in each column"
   ]
  },
  {
   "cell_type": "code",
   "execution_count": 12,
   "metadata": {
    "scrolled": true
   },
   "outputs": [
    {
     "data": {
      "image/png": "[encoded data removed]",
      "text/plain": [
       "<Figure size 432x288 with 9 Axes>"
      ]
     },
     "metadata": {},
     "output_type": "display_data"
    }
   ],
   "source": [
    "#Plotting 9 histograms, one for each column\n",
    "fig1, axs = plt.subplots(3,3)\n",
    "\n",
    "axs[0,0].hist(data.loc[:,'A2'])\n",
    "axs[0,1].hist(data.loc[:,'A3'])\n",
    "axs[0,2].hist(data.loc[:,'A4'])\n",
    "axs[1,0].hist(data.loc[:,'A5'])\n",
    "axs[1,1].hist(data.loc[:,'A6'])\n",
    "axs[1,2].hist(data.loc[:,'A7'])\n",
    "axs[2,0].hist(data.loc[:,'A8'])\n",
    "axs[2,1].hist(data.loc[:,'A9'])\n",
    "axs[2,2].hist(data.loc[:,'A10'])\n",
    "plt.tight_layout(rect=(0, 0, 1.2, 1.2))\n",
    "plt.show()"
   ]
  },
  {
   "cell_type": "markdown",
   "metadata": {},
   "source": [
    "### The Bar Plot for the CLASS column to count the number of benign and malignant tumors."
   ]
  },
  {
   "cell_type": "code",
   "execution_count": 13,
   "metadata": {},
   "outputs": [
    {
     "data": {
      "image/png": "[encoded data removed]",
      "text/plain": [
       "<Figure size 432x288 with 1 Axes>"
      ]
     },
     "metadata": {},
     "output_type": "display_data"
    }
   ],
   "source": [
    "#Plotting Bar Graph for CLASS\n",
    "data['CLASS'].value_counts().plot.bar(color=['blue','red'],alpha=0.5)\n",
    "plt.ylabel('Count')\n",
    "plt.xlabel('Tumor Class')\n",
    "plt.title('Number of Benign and Malignant Tumors')\n",
    "plt.xticks(np.arange(2), ('Benign', 'Malignant'),rotation=0)\n",
    "plt.show()"
   ]
  },
  {
   "cell_type": "markdown",
   "metadata": {},
   "source": [
    "### The Scatterplot comparing the values in the Clump Thickness and Mitoses columns"
   ]
  },
  {
   "cell_type": "code",
   "execution_count": 14,
   "metadata": {},
   "outputs": [
    {
     "data": {
      "image/png": "[encoded data removed]",
      "text/plain": [
       "<Figure size 432x288 with 1 Axes>"
      ]
     },
     "metadata": {},
     "output_type": "display_data"
    }
   ],
   "source": [
    "#Plotting ScatterPlot \n",
    "data.plot(kind='scatter',x='A2',y='A10',alpha=0.3,color='green')\n",
    "plt.ylabel('Mitoses')\n",
    "plt.xlabel('Clump Thickness')\n",
    "plt.title('Mitoses vs Clump Thickness')\n",
    "plt.show()"
   ]
  },
  {
   "cell_type": "markdown",
   "metadata": {},
   "source": [
    "## Phase II"
   ]
  },
  {
   "cell_type": "markdown",
   "metadata": {},
   "source": [
    "### Drop the 'Class' column from dataset for clustering"
   ]
  },
  {
   "cell_type": "code",
   "execution_count": 15,
   "metadata": {},
   "outputs": [],
   "source": [
    "cluster_data = data.drop(['CLASS'], axis = 1)"
   ]
  },
  {
   "cell_type": "markdown",
   "metadata": {},
   "source": [
    "### Create KMeans Model with 4 Clusters"
   ]
  },
  {
   "cell_type": "code",
   "execution_count": 16,
   "metadata": {},
   "outputs": [],
   "source": [
    "model = KMeans(n_clusters=4)"
   ]
  },
  {
   "cell_type": "markdown",
   "metadata": {},
   "source": [
    "### Fit KMeans Model to Data"
   ]
  },
  {
   "cell_type": "code",
   "execution_count": 17,
   "metadata": {},
   "outputs": [],
   "source": [
    "model.fit(cluster_data)\n",
    "labels = model.predict(cluster_data)"
   ]
  },
  {
   "cell_type": "markdown",
   "metadata": {},
   "source": [
    "### Create and print the KMeans Model Centroids"
   ]
  },
  {
   "cell_type": "code",
   "execution_count": 18,
   "metadata": {},
   "outputs": [
    {
     "name": "stdout",
     "output_type": "stream",
     "text": [
      "[[2.94493392 1.24449339 1.36563877 1.29295154 2.03964758 1.3514006\n",
      "  2.06167401 1.20044053 1.07709251]\n",
      " [6.7625     8.3875     8.425      7.75       6.775      9.2125\n",
      "  7.375      7.7375     3.7875    ]\n",
      " [7.23404255 4.85106383 5.04255319 4.86170213 4.11702128 9.38297872\n",
      "  5.26595745 3.78723404 1.64893617]\n",
      " [7.46478873 7.02816901 6.67605634 4.1971831  5.53521127 3.45322005\n",
      "  5.38028169 6.81690141 2.30985915]]\n"
     ]
    }
   ],
   "source": [
    "centroids = model.cluster_centers_\n",
    "print(centroids)"
   ]
  },
  {
   "cell_type": "markdown",
   "metadata": {},
   "source": [
    "### Create a range from 1 to 15 and an empty list for inertias values"
   ]
  },
  {
   "cell_type": "code",
   "execution_count": 19,
   "metadata": {},
   "outputs": [],
   "source": [
    "ks = range(1,15)\n",
    "inertias = []"
   ]
  },
  {
   "cell_type": "markdown",
   "metadata": {},
   "source": [
    "### Use a loop to calculate KMeans for each value"
   ]
  },
  {
   "cell_type": "code",
   "execution_count": 20,
   "metadata": {},
   "outputs": [],
   "source": [
    "for k in ks:\n",
    "    model2 = KMeans(n_clusters = k)\n",
    "    \n",
    "    model2.fit(cluster_data)\n",
    "    \n",
    "    inertias.append(model2.inertia_)"
   ]
  },
  {
   "cell_type": "markdown",
   "metadata": {},
   "source": [
    "### Plot Range and Inertia"
   ]
  },
  {
   "cell_type": "code",
   "execution_count": 21,
   "metadata": {},
   "outputs": [
    {
     "data": {
      "image/png": "[encoded data removed]",
      "text/plain": [
       "<Figure size 432x288 with 1 Axes>"
      ]
     },
     "metadata": {},
     "output_type": "display_data"
    }
   ],
   "source": [
    "plt.plot(ks, inertias, '-o')\n",
    "plt.xlabel('number of clusters, k')\n",
    "plt.ylabel('inertia')\n",
    "plt.xticks(ks)\n",
    "plt.title('Inertia vs Number of Clusters')\n",
    "plt.show()"
   ]
  },
  {
   "cell_type": "markdown",
   "metadata": {},
   "source": [
    "### To find the ideal number of clusters, we need to examine the inertia vs number of clusters plot.  A good clustering has low inertia.  However, we also do not want too many clusters.  To do this, we look for an elbow in the plot.  This is a place where the inertia begins to decrease more slowly.  Looking at the plot, the optimal number of clusters should be 3."
   ]
  },
  {
   "cell_type": "markdown",
   "metadata": {},
   "source": [
    "### Apply standard deviation function for columns A2-A10"
   ]
  },
  {
   "cell_type": "code",
   "execution_count": 22,
   "metadata": {},
   "outputs": [
    {
     "data": {
      "text/plain": [
       "pandas.core.series.Series"
      ]
     },
     "execution_count": 22,
     "metadata": {},
     "output_type": "execute_result"
    }
   ],
   "source": [
    "stddev=cluster_data.std(axis = 0)\n",
    "type(stddev)"
   ]
  },
  {
   "cell_type": "code",
   "execution_count": 23,
   "metadata": {
    "scrolled": false
   },
   "outputs": [
    {
     "data": {
      "text/html": [
       "<div>\n",
       "<style scoped>\n",
       "    .dataframe tbody tr th:only-of-type {\n",
       "        vertical-align: middle;\n",
       "    }\n",
       "\n",
       "    .dataframe tbody tr th {\n",
       "        vertical-align: top;\n",
       "    }\n",
       "\n",
       "    .dataframe thead th {\n",
       "        text-align: right;\n",
       "    }\n",
       "</style>\n",
       "<table border=\"1\" class=\"dataframe\">\n",
       "  <thead>\n",
       "    <tr style=\"text-align: right;\">\n",
       "      <th></th>\n",
       "      <th>Variable</th>\n",
       "      <th>Standard Deviation</th>\n",
       "    </tr>\n",
       "  </thead>\n",
       "  <tbody>\n",
       "    <tr>\n",
       "      <th>0</th>\n",
       "      <td>A2</td>\n",
       "      <td>2.815741</td>\n",
       "    </tr>\n",
       "    <tr>\n",
       "      <th>1</th>\n",
       "      <td>A3</td>\n",
       "      <td>3.051459</td>\n",
       "    </tr>\n",
       "    <tr>\n",
       "      <th>2</th>\n",
       "      <td>A4</td>\n",
       "      <td>2.971913</td>\n",
       "    </tr>\n",
       "    <tr>\n",
       "      <th>3</th>\n",
       "      <td>A5</td>\n",
       "      <td>2.855379</td>\n",
       "    </tr>\n",
       "    <tr>\n",
       "      <th>4</th>\n",
       "      <td>A6</td>\n",
       "      <td>2.214300</td>\n",
       "    </tr>\n",
       "    <tr>\n",
       "      <th>5</th>\n",
       "      <td>A7</td>\n",
       "      <td>3.601852</td>\n",
       "    </tr>\n",
       "    <tr>\n",
       "      <th>6</th>\n",
       "      <td>A8</td>\n",
       "      <td>2.438364</td>\n",
       "    </tr>\n",
       "    <tr>\n",
       "      <th>7</th>\n",
       "      <td>A9</td>\n",
       "      <td>3.053634</td>\n",
       "    </tr>\n",
       "    <tr>\n",
       "      <th>8</th>\n",
       "      <td>A10</td>\n",
       "      <td>1.715078</td>\n",
       "    </tr>\n",
       "  </tbody>\n",
       "</table>\n",
       "</div>"
      ],
      "text/plain": [
       "  Variable  Standard Deviation\n",
       "0       A2            2.815741\n",
       "1       A3            3.051459\n",
       "2       A4            2.971913\n",
       "3       A5            2.855379\n",
       "4       A6            2.214300\n",
       "5       A7            3.601852\n",
       "6       A8            2.438364\n",
       "7       A9            3.053634\n",
       "8      A10            1.715078"
      ]
     },
     "execution_count": 23,
     "metadata": {},
     "output_type": "execute_result"
    }
   ],
   "source": [
    "sd=pd.DataFrame({'Variable':stddev.index, 'Standard Deviation':stddev.values})\n",
    "sd"
   ]
  },
  {
   "cell_type": "code",
   "execution_count": 24,
   "metadata": {
    "scrolled": false
   },
   "outputs": [
    {
     "data": {
      "image/png": "[encoded data removed]",
      "text/plain": [
       "<Figure size 432x288 with 1 Axes>"
      ]
     },
     "metadata": {},
     "output_type": "display_data"
    }
   ],
   "source": [
    "std_dev_plot = sns.stripplot(x='Standard Deviation',y='Variable', data = sd, jitter=True, size=5.5, hue='Variable')"
   ]
  },
  {
   "cell_type": "markdown",
   "metadata": {},
   "source": [
    "#### We could see that the spread of data from the above boxplot. We could notice that variable A7 has the highest variation followed by A9, A3 and A4 respectively. The above plots show the spread of data "
   ]
  },
  {
   "cell_type": "code",
   "execution_count": 25,
   "metadata": {},
   "outputs": [
    {
     "name": "stderr",
     "output_type": "stream",
     "text": [
      "C:\\Users\\gumae\\Anaconda3\\lib\\site-packages\\ipykernel_launcher.py:1: UserWarning: Pandas doesn't allow columns to be created via a new attribute name - see https://pandas.pydata.org/pandas-docs/stable/indexing.html#attribute-access\n",
      "  \"\"\"Entry point for launching an IPython kernel.\n"
     ]
    },
    {
     "data": {
      "image/png": "[encoded data removed]",
      "text/plain": [
       "<Figure size 432x288 with 1 Axes>"
      ]
     },
     "metadata": {},
     "output_type": "display_data"
    }
   ],
   "source": [
    "sd.t=sd.T\n",
    "sd.plot.bar('Variable','Standard Deviation')\n",
    "plt.title('Standard Deviation Values')\n",
    "plt.xlabel('Variable')\n",
    "plt.ylabel('Standard Deviation')\n",
    "plt.show()"
   ]
  },
  {
   "cell_type": "code",
   "execution_count": 26,
   "metadata": {},
   "outputs": [
    {
     "data": {
      "image/png": "[encoded data removed]",
      "text/plain": [
       "<Figure size 432x288 with 1 Axes>"
      ]
     },
     "metadata": {},
     "output_type": "display_data"
    }
   ],
   "source": [
    "sd.plot('Variable','Standard Deviation')\n",
    "plt.title('Standard Deviation Values')\n",
    "plt.xlabel('Categories')\n",
    "plt.ylabel('Standard Deviation')\n",
    "plt.show()"
   ]
  },
  {
   "cell_type": "markdown",
   "metadata": {},
   "source": [
    "### Above plots shows the individual vratiable stadnard deviation and we could clearly see that variable A7 has the highest varation"
   ]
  },
  {
   "cell_type": "markdown",
   "metadata": {},
   "source": [
    "### Implement Normalization"
   ]
  },
  {
   "cell_type": "code",
   "execution_count": 27,
   "metadata": {},
   "outputs": [
    {
     "name": "stdout",
     "output_type": "stream",
     "text": [
      "[[-0.51945334 -0.61728918 -0.61702732 -0.52103625 -0.53370405 -0.60430508\n",
      "  -0.56576652 -0.54283279 -0.29912703]\n",
      " [ 0.94324425  1.06056115  1.0579358   0.87929444  0.86029786  1.12907601\n",
      "   1.00835139  0.92952452  0.03297812]\n",
      " [ 1.16860808  1.75960552  1.77223164  1.58294095  1.86961155  1.16430087\n",
      "   1.3895322   1.56650375  3.80910288]]\n"
     ]
    }
   ],
   "source": [
    "scaler = StandardScaler()\n",
    "kmeans = KMeans(n_clusters = 3)\n",
    "pipeline = make_pipeline(scaler, kmeans)\n",
    "pipeline.fit(cluster_data)\n",
    "new_labels = pipeline.predict(cluster_data)\n",
    "new_centroids = pipeline.named_steps['kmeans'].cluster_centers_\n",
    "print(new_centroids)"
   ]
  },
  {
   "cell_type": "markdown",
   "metadata": {},
   "source": [
    "## Phase 3"
   ]
  },
  {
   "cell_type": "markdown",
   "metadata": {},
   "source": [
    "## Cluster Revision"
   ]
  },
  {
   "cell_type": "markdown",
   "metadata": {},
   "source": [
    "#### Produce revised KMeans model by changing iteration to 500, initial centroids to 20, number of clusters to 2, and running it over the data from Phase 1"
   ]
  },
  {
   "cell_type": "code",
   "execution_count": 28,
   "metadata": {},
   "outputs": [],
   "source": [
    "revised_model = KMeans(n_clusters=2, max_iter=500, n_init=20, random_state=0)\n",
    "revised_model.fit(data)\n",
    "labels = revised_model.predict(data)"
   ]
  },
  {
   "cell_type": "markdown",
   "metadata": {},
   "source": [
    "### DataFrame\n",
    "\n",
    "#### Create a new column in your dataframe and add Kmeans labels.\n",
    "#### Change labels values so that 0 becomes 2 and 1 becomes 4.\n",
    "#### Print the first 15 records from your dataframe"
   ]
  },
  {
   "cell_type": "code",
   "execution_count": 29,
   "metadata": {},
   "outputs": [
    {
     "name": "stdout",
     "output_type": "stream",
     "text": [
      "         A2  A3  A4  A5  A6    A7  A8  A9  A10  CLASS  labels\n",
      "Scn                                                          \n",
      "1000025   5   1   1   1   2   1.0   3   1    1      2       2\n",
      "1002945   5   4   4   5   7  10.0   3   2    1      2       4\n",
      "1015425   3   1   1   1   2   2.0   3   1    1      2       2\n",
      "1016277   6   8   8   1   3   4.0   3   7    1      2       4\n",
      "1017023   4   1   1   3   2   1.0   3   1    1      2       2\n",
      "1017122   8  10  10   8   7  10.0   9   7    1      4       4\n",
      "1018099   1   1   1   1   2  10.0   3   1    1      2       2\n",
      "1018561   2   1   2   1   2   1.0   3   1    1      2       2\n",
      "1033078   2   1   1   1   2   1.0   1   1    5      2       2\n",
      "1033078   4   2   1   1   2   1.0   2   1    1      2       2\n",
      "1035283   1   1   1   1   1   1.0   3   1    1      2       2\n",
      "1036172   2   1   1   1   2   1.0   2   1    1      2       2\n",
      "1041801   5   3   3   3   2   3.0   4   4    1      4       2\n",
      "1043999   1   1   1   1   2   3.0   3   1    1      2       2\n",
      "1044572   8   7   5  10   7   9.0   5   5    4      4       4\n"
     ]
    }
   ],
   "source": [
    "data['labels'] = labels\n",
    "data['labels'] = data['labels'].astype(str)\n",
    "data['labels'] = data['labels'].replace({'0':'2','1':'4'})\n",
    "data['labels'] = pd.to_numeric(data['labels'])\n",
    "print(data[0:15])"
   ]
  },
  {
   "cell_type": "markdown",
   "metadata": {},
   "source": [
    "## Error Rate Function"
   ]
  },
  {
   "cell_type": "code",
   "execution_count": 30,
   "metadata": {},
   "outputs": [],
   "source": [
    "def ErrorRate(labels, CLASS):\n",
    "    \n",
    "    #create grouped data series with value counts for reviewing labels and classes\n",
    "    labels_class = data.groupby('labels')['CLASS'].value_counts()\n",
    "    \n",
    "    #formula specifically for calculating the benign error rate\n",
    "    benign_false_preds = labels_class.xs((4,2), level=('labels','CLASS')).iloc[-1]\n",
    "    total_benign_preds = labels_class.xs((2,2), level=('labels','CLASS')).iloc[-1] + labels_class.xs((4,2), level=('labels','CLASS')).iloc[-1]\n",
    "    benign_error_rate = round(benign_false_preds / total_benign_preds,3)\n",
    "    \n",
    "    #print out the error rates\n",
    "    print(\"error rate for benign \",benign_error_rate)\n",
    "    \n",
    "    #formula for calculating the malign error rate (using the formula for beign error rate from above)\n",
    "    malign_false_preds = labels_class.xs((2,4), level=('labels','CLASS')).iloc[-1]\n",
    "    total_malign_preds = labels_class.xs((4,4), level=('labels','CLASS')).iloc[-1] + labels_class.xs((2,4), level=('labels','CLASS')).iloc[-1]\n",
    "    malign_error_rate = round(malign_false_preds / total_malign_preds,3)\n",
    "    \n",
    "    #print out the error rates\n",
    "    print(\"error rate for malign \",malign_error_rate)\n",
    "    \n",
    "    #formula for calculating the total error rate\n",
    "    total_false_preds = benign_false_preds + malign_false_preds\n",
    "    total_count = len(data)\n",
    "    total_error_rate = round(total_false_preds / total_count,3)\n",
    "    \n",
    "    #print out the error rates\n",
    "    print(\"the total error rate  \",total_error_rate)\n",
    "    "
   ]
  },
  {
   "cell_type": "code",
   "execution_count": 31,
   "metadata": {},
   "outputs": [
    {
     "name": "stdout",
     "output_type": "stream",
     "text": [
      "error rate for benign  0.024\n",
      "error rate for malign  0.062\n",
      "the total error rate   0.037\n"
     ]
    }
   ],
   "source": [
    "ErrorRate(labels, data['CLASS'])"
   ]
  },
  {
   "cell_type": "markdown",
   "metadata": {},
   "source": [
    "### Final Report\n",
    "\n",
    "The purpose of this project was to practice python data science techniques on real world data.  We examined breast cancer data from the University of Wisconsin Hospitals.  Through the project, we needed to replace missing data, produce summary statistics, create descriptive graphics, and use unsupervised learning to organize the data.\n",
    "\n",
    "We used KMeans clustering to organize the data.  The goal was to see how accurate our model was to the actual class, benign or malignant.  To do this, we set our number of clusters to 2 and compared that clustering to the reported class.  This resulted in a total error rate of 3.7%.  This is shows we produced an accurate clustering.\n",
    "\n",
    "There were two discrepancies in the overall project that could have affected this result.  First, when we calculated the inertias for our clustering, we believe the ideal number of clusters should be 3.  This was a subjective process by trying to find an elbow in the graph.  If taking the type of data into consideration, the ideal number of clusters should have been 2 as that is the known number of classes.  Looking at the graph, 2 would have been an acceptable number of clusters.\n",
    "\n",
    "Second, we wanted our data labels from KMeans to have the same the labels regardless of which team member ran the notebook.  Seeing as KMeans is a random process, we wanted to have control over the random number generator.  As such, we set `random_state=0` to control the random number generator seed.  This way, we will obtain the same results every time the notebook is ran.\n",
    "\n",
    "Overall, using KMeans to predict classes for data did yield accurate results.  However, some errors and inconsistencies could be made without knowledge of the original dataset."
   ]
  },
  {
   "cell_type": "code",
   "execution_count": null,
   "metadata": {},
   "outputs": [],
   "source": []
  }
 ],
 "metadata": {
  "kernelspec": {
   "display_name": "Python 3",
   "language": "python",
   "name": "python3"
  },
  "language_info": {
   "codemirror_mode": {
    "name": "ipython",
    "version": 3
   },
   "file_extension": ".py",
   "mimetype": "text/x-python",
   "name": "python",
   "nbconvert_exporter": "python",
   "pygments_lexer": "ipython3",
   "version": "3.6.5"
  }
 },
 "nbformat": 4,
 "nbformat_minor": 2
}
