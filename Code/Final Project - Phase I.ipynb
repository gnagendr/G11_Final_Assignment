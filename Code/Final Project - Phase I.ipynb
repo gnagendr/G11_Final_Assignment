{
 "cells": [
  {
   "cell_type": "markdown",
   "metadata": {},
   "source": [
    "# Final Project\n",
    "## Phase I"
   ]
  },
  {
   "cell_type": "code",
   "execution_count": 1,
   "metadata": {},
   "outputs": [],
   "source": [
    "#Import Necessary Packages\n",
    "import pandas as pd\n",
    "import numpy as np"
   ]
  },
  {
   "cell_type": "code",
   "execution_count": 2,
   "metadata": {},
   "outputs": [],
   "source": [
    "#Import Data\n",
    "d = 'https://raw.github.com/gnagendr/G11_Final_Assignment/master/Data/Breast-Cancer-Wisconsin.csv'\n",
    "data = pd.read_csv(d, index_col=0, sep = ',')"
   ]
  },
  {
   "cell_type": "code",
   "execution_count": 5,
   "metadata": {},
   "outputs": [],
   "source": [
    "#Replace '?' with NaN in column A7\n",
    "data['A7'] = data['A7'].astype(str)\n",
    "data['A7'] = data['A7'].replace('?',np.NaN)\n",
    "data['A7'] = pd.to_numeric(data['A7'])"
   ]
  },
  {
   "cell_type": "code",
   "execution_count": 6,
   "metadata": {},
   "outputs": [
    {
     "name": "stdout",
     "output_type": "stream",
     "text": [
      "Number of NaN Values in column A7:  16 \n",
      "\n"
     ]
    }
   ],
   "source": [
    "#Check the number of NaN values\n",
    "print(\"Number of NaN Values in column A7: \",sum(pd.isnull(data['A7'])), \"\\n\")"
   ]
  },
  {
   "cell_type": "code",
   "execution_count": 7,
   "metadata": {},
   "outputs": [],
   "source": [
    "#Replace NaN values in whole dataset with the mean of column A7\n",
    "if data.isnull().values.any():\n",
    "    data = data.fillna(data['A7'].mean(skipna=True))"
   ]
  },
  {
   "cell_type": "code",
   "execution_count": 11,
   "metadata": {},
   "outputs": [
    {
     "name": "stdout",
     "output_type": "stream",
     "text": [
      "Summary Statistics:\n",
      "                A2          A3          A4          A5          A6          A7  \\\n",
      "count  699.000000  699.000000  699.000000  699.000000  699.000000  699.000000   \n",
      "mean     4.417740    3.134478    3.207439    2.806867    3.216023    3.544656   \n",
      "std      2.815741    3.051459    2.971913    2.855379    2.214300    3.601852   \n",
      "min      1.000000    1.000000    1.000000    1.000000    1.000000    1.000000   \n",
      "25%      2.000000    1.000000    1.000000    1.000000    2.000000    1.000000   \n",
      "50%      4.000000    1.000000    1.000000    1.000000    2.000000    1.000000   \n",
      "75%      6.000000    5.000000    5.000000    4.000000    4.000000    5.000000   \n",
      "max     10.000000   10.000000   10.000000   10.000000   10.000000   10.000000   \n",
      "\n",
      "               A8          A9         A10       CLASS  \n",
      "count  699.000000  699.000000  699.000000  699.000000  \n",
      "mean     3.437768    2.866953    1.589413    2.689557  \n",
      "std      2.438364    3.053634    1.715078    0.951273  \n",
      "min      1.000000    1.000000    1.000000    2.000000  \n",
      "25%      2.000000    1.000000    1.000000    2.000000  \n",
      "50%      3.000000    1.000000    1.000000    2.000000  \n",
      "75%      5.000000    4.000000    1.000000    4.000000  \n",
      "max     10.000000   10.000000   10.000000    4.000000  \n"
     ]
    }
   ],
   "source": [
    "#Print Summary Statistics\n",
    "print(\"Summary Statistics:\\n\",data.describe())"
   ]
  },
  {
   "cell_type": "code",
   "execution_count": 10,
   "metadata": {},
   "outputs": [
    {
     "name": "stdout",
     "output_type": "stream",
     "text": [
      "Number of columns in data:\n",
      " 10\n"
     ]
    }
   ],
   "source": [
    "#Number of columns in data\n",
    "print(\"Number of columns in data:\\n\",data.shape[1])"
   ]
  },
  {
   "cell_type": "code",
   "execution_count": 12,
   "metadata": {},
   "outputs": [
    {
     "name": "stdout",
     "output_type": "stream",
     "text": [
      "Number of observations/rows in data:\n",
      " 699 \n",
      "\n"
     ]
    }
   ],
   "source": [
    "#Number of observations/rows\n",
    "print(\"Number of observations/rows in data:\\n\",data.shape[0])"
   ]
  },
  {
   "cell_type": "code",
   "execution_count": 13,
   "metadata": {},
   "outputs": [
    {
     "name": "stdout",
     "output_type": "stream",
     "text": [
      "Number of unique id values:\n",
      " 645\n"
     ]
    }
   ],
   "source": [
    "#Number of Unique Values\n",
    "print(\"Number of unique id values:\\n\", len(data.index.get_level_values(0).unique()))"
   ]
  },
  {
   "cell_type": "markdown",
   "metadata": {},
   "source": [
    "# Gautham's section: \"Summarize by reporting which values might need standardization in the future (too much variation) and any other observations that you may discover as a Data Scientist.\""
   ]
  },
  {
   "cell_type": "code",
   "execution_count": 14,
   "metadata": {},
   "outputs": [
    {
     "name": "stdout",
     "output_type": "stream",
     "text": [
      "Variable Standard Deviation \n",
      " A2       2.815741\n",
      "A3       3.051459\n",
      "A4       2.971913\n",
      "A5       2.855379\n",
      "A6       2.214300\n",
      "A7       3.601852\n",
      "A8       2.438364\n",
      "A9       3.053634\n",
      "A10      1.715078\n",
      "CLASS    0.951273\n",
      "dtype: float64 \n",
      "\n"
     ]
    }
   ],
   "source": [
    "print(\"Variable Standard Deviation\", \"\\n\", data.std(axis = 0))"
   ]
  },
  {
   "cell_type": "code",
   "execution_count": 15,
   "metadata": {},
   "outputs": [
    {
     "name": "stdout",
     "output_type": "stream",
     "text": [
      "Variable Variation \n",
      " A2        7.928395\n",
      "A3        9.311403\n",
      "A4        8.832265\n",
      "A5        8.153191\n",
      "A6        4.903124\n",
      "A7       12.973335\n",
      "A8        5.945620\n",
      "A9        9.324680\n",
      "A10       2.941492\n",
      "CLASS     0.904919\n",
      "dtype: float64 \n",
      "\n"
     ]
    }
   ],
   "source": [
    "print(\"Variable Variation\", \"\\n\", data.var(axis = 0), \"\\n\")"
   ]
  },
  {
   "cell_type": "code",
   "execution_count": 17,
   "metadata": {},
   "outputs": [
    {
     "name": "stdout",
     "output_type": "stream",
     "text": [
      "Boxplot of Variables: \n",
      " AxesSubplot(0.125,0.125;0.775x0.755)\n"
     ]
    },
    {
     "data": {
      "image/png": "[encoded data removed]",
      "text/plain": [
       "<Figure size 432x288 with 1 Axes>"
      ]
     },
     "metadata": {},
     "output_type": "display_data"
    }
   ],
   "source": [
    "print(\"Boxplot of Variables:\", \"\\n\", data.boxplot())"
   ]
  },
  {
   "cell_type": "code",
   "execution_count": null,
   "metadata": {},
   "outputs": [],
   "source": []
  }
 ],
 "metadata": {
  "kernelspec": {
   "display_name": "Python 3",
   "language": "python",
   "name": "python3"
  },
  "language_info": {
   "codemirror_mode": {
    "name": "ipython",
    "version": 3
   },
   "file_extension": ".py",
   "mimetype": "text/x-python",
   "name": "python",
   "nbconvert_exporter": "python",
   "pygments_lexer": "ipython3",
   "version": "3.6.5"
  }
 },
 "nbformat": 4,
 "nbformat_minor": 2
}
