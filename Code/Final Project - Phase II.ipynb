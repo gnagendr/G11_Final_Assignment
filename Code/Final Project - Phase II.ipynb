{
 "cells": [
  {
   "cell_type": "markdown",
   "metadata": {},
   "source": [
    "# Final Project\n",
    "## Phase I"
   ]
  },
  {
   "cell_type": "markdown",
   "metadata": {},
   "source": [
    "### Import Necessary Packages"
   ]
  },
  {
   "cell_type": "code",
   "execution_count": 2,
   "metadata": {},
   "outputs": [],
   "source": [
    "import pandas as pd\n",
    "import numpy as np\n",
    "import matplotlib.pyplot as plt\n",
    "from sklearn.cluster import KMeans\n",
    "from sklearn.preprocessing import StandardScaler\n",
    "from sklearn.pipeline import make_pipeline\n",
    "import seaborn as sns"
   ]
  },
  {
   "cell_type": "markdown",
   "metadata": {},
   "source": [
    "### Import the data using its location in the Github Repository"
   ]
  },
  {
   "cell_type": "code",
   "execution_count": 3,
   "metadata": {},
   "outputs": [],
   "source": [
    "d = 'https://raw.github.com/gnagendr/G11_Final_Assignment/master/Data/Breast-Cancer-Wisconsin.csv'\n",
    "data = pd.read_csv(d, index_col=0, sep = ',')"
   ]
  },
  {
   "cell_type": "markdown",
   "metadata": {},
   "source": [
    "### Replace invalid values in column for A7 variable with NaN"
   ]
  },
  {
   "cell_type": "code",
   "execution_count": 4,
   "metadata": {},
   "outputs": [],
   "source": [
    "data['A7'] = data['A7'].astype(str)\n",
    "data['A7'] = data['A7'].replace('?',np.NaN)\n",
    "data['A7'] = pd.to_numeric(data['A7'])"
   ]
  },
  {
   "cell_type": "markdown",
   "metadata": {},
   "source": [
    "### Determine the number of NaN variables for variable A7"
   ]
  },
  {
   "cell_type": "code",
   "execution_count": 5,
   "metadata": {},
   "outputs": [
    {
     "name": "stdout",
     "output_type": "stream",
     "text": [
      "Number of NaN Values in column A7:  16 \n",
      "\n"
     ]
    }
   ],
   "source": [
    "print(\"Number of NaN Values in column A7: \",sum(pd.isnull(data['A7'])), \"\\n\")"
   ]
  },
  {
   "cell_type": "markdown",
   "metadata": {},
   "source": [
    "### Replace missing values in A7 with the variable mean"
   ]
  },
  {
   "cell_type": "code",
   "execution_count": 6,
   "metadata": {},
   "outputs": [],
   "source": [
    "if data.isnull().values.any():\n",
    "    data = data.fillna(data['A7'].mean(skipna=True))"
   ]
  },
  {
   "cell_type": "markdown",
   "metadata": {},
   "source": [
    "### Display Dataset Summary Statistics"
   ]
  },
  {
   "cell_type": "code",
   "execution_count": 7,
   "metadata": {},
   "outputs": [
    {
     "name": "stdout",
     "output_type": "stream",
     "text": [
      "Summary Statistics:\n",
      "                A2          A3          A4          A5          A6          A7  \\\n",
      "count  699.000000  699.000000  699.000000  699.000000  699.000000  699.000000   \n",
      "mean     4.417740    3.134478    3.207439    2.806867    3.216023    3.544656   \n",
      "std      2.815741    3.051459    2.971913    2.855379    2.214300    3.601852   \n",
      "min      1.000000    1.000000    1.000000    1.000000    1.000000    1.000000   \n",
      "25%      2.000000    1.000000    1.000000    1.000000    2.000000    1.000000   \n",
      "50%      4.000000    1.000000    1.000000    1.000000    2.000000    1.000000   \n",
      "75%      6.000000    5.000000    5.000000    4.000000    4.000000    5.000000   \n",
      "max     10.000000   10.000000   10.000000   10.000000   10.000000   10.000000   \n",
      "\n",
      "               A8          A9         A10       CLASS  \n",
      "count  699.000000  699.000000  699.000000  699.000000  \n",
      "mean     3.437768    2.866953    1.589413    2.689557  \n",
      "std      2.438364    3.053634    1.715078    0.951273  \n",
      "min      1.000000    1.000000    1.000000    2.000000  \n",
      "25%      2.000000    1.000000    1.000000    2.000000  \n",
      "50%      3.000000    1.000000    1.000000    2.000000  \n",
      "75%      5.000000    4.000000    1.000000    4.000000  \n",
      "max     10.000000   10.000000   10.000000    4.000000  \n"
     ]
    }
   ],
   "source": [
    "print(\"Summary Statistics:\\n\",data.describe())"
   ]
  },
  {
   "cell_type": "markdown",
   "metadata": {},
   "source": [
    "### Display additional statistics about the data such as number of columns, number of observations/rows, and the number of unique values"
   ]
  },
  {
   "cell_type": "code",
   "execution_count": 8,
   "metadata": {},
   "outputs": [
    {
     "name": "stdout",
     "output_type": "stream",
     "text": [
      "Number of columns in data:\n",
      " 10\n"
     ]
    }
   ],
   "source": [
    "print(\"Number of columns in data:\\n\",data.shape[1])"
   ]
  },
  {
   "cell_type": "code",
   "execution_count": 9,
   "metadata": {},
   "outputs": [
    {
     "name": "stdout",
     "output_type": "stream",
     "text": [
      "Number of observations/rows in data:\n",
      " 699\n"
     ]
    }
   ],
   "source": [
    "print(\"Number of observations/rows in data:\\n\",data.shape[0])"
   ]
  },
  {
   "cell_type": "code",
   "execution_count": 10,
   "metadata": {},
   "outputs": [
    {
     "name": "stdout",
     "output_type": "stream",
     "text": [
      "Number of unique id values:\n",
      " 645\n"
     ]
    }
   ],
   "source": [
    "print(\"Number of unique id values:\\n\", len(data.index.get_level_values(0).unique()))"
   ]
  },
  {
   "cell_type": "code",
   "execution_count": 11,
   "metadata": {},
   "outputs": [
    {
     "name": "stdout",
     "output_type": "stream",
     "text": [
      "Variable Variation \n",
      " A2        7.928395\n",
      "A3        9.311403\n",
      "A4        8.832265\n",
      "A5        8.153191\n",
      "A6        4.903124\n",
      "A7       12.973335\n",
      "A8        5.945620\n",
      "A9        9.324680\n",
      "A10       2.941492\n",
      "CLASS     0.904919\n",
      "dtype: float64 \n",
      "\n"
     ]
    }
   ],
   "source": [
    "print(\"Variable Variation\", \"\\n\", data.var(axis = 0), \"\\n\")"
   ]
  },
  {
   "cell_type": "markdown",
   "metadata": {},
   "source": [
    "## Explanatory Data Analysis \n",
    "\n",
    "### From the Summary Statistics, we can observe that the variable A10 has variable very close to 1 or just 1. We can use data imputing technique to replace the higher values in this column by its mean.\n",
    "\n",
    "### A review of the variation within each variable shows that A7 has a considerable amount of variation and represents a clear candidate for standardization in future analysis. Variables A3 and A9 also stand out for the amount of variation they contain and could benefit from standardization"
   ]
  },
  {
   "cell_type": "markdown",
   "metadata": {},
   "source": [
    "### A series of 9 histograms which categorize and count the values in each column"
   ]
  },
  {
   "cell_type": "code",
   "execution_count": 12,
   "metadata": {
    "scrolled": true
   },
   "outputs": [
    {
     "data": {
      "image/png": "[encoded data removed]",
      "text/plain": [
       "<Figure size 432x288 with 9 Axes>"
      ]
     },
     "metadata": {},
     "output_type": "display_data"
    }
   ],
   "source": [
    "#Plotting 9 histograms, one for each column\n",
    "fig1, axs = plt.subplots(3,3)\n",
    "\n",
    "axs[0,0].hist(data.loc[:,'A2'])\n",
    "axs[0,1].hist(data.loc[:,'A3'])\n",
    "axs[0,2].hist(data.loc[:,'A4'])\n",
    "axs[1,0].hist(data.loc[:,'A5'])\n",
    "axs[1,1].hist(data.loc[:,'A6'])\n",
    "axs[1,2].hist(data.loc[:,'A7'])\n",
    "axs[2,0].hist(data.loc[:,'A8'])\n",
    "axs[2,1].hist(data.loc[:,'A9'])\n",
    "axs[2,2].hist(data.loc[:,'A10'])\n",
    "plt.tight_layout(rect=(0, 0, 1.2, 1.2))\n",
    "plt.show()"
   ]
  },
  {
   "cell_type": "markdown",
   "metadata": {},
   "source": [
    "### The Bar Plot for the CLASS column to count the number of benign and malignant tumors."
   ]
  },
  {
   "cell_type": "code",
   "execution_count": 13,
   "metadata": {},
   "outputs": [
    {
     "data": {
      "image/png": "[encoded data removed]",
      "text/plain": [
       "<Figure size 432x288 with 1 Axes>"
      ]
     },
     "metadata": {},
     "output_type": "display_data"
    }
   ],
   "source": [
    "#Plotting Bar Graph for CLASS\n",
    "data['CLASS'].value_counts().plot.bar(color=['blue','red'],alpha=0.5)\n",
    "plt.ylabel('Count')\n",
    "plt.xlabel('Tumor Class')\n",
    "plt.title('Number of Benign and Malignant Tumors')\n",
    "plt.xticks(np.arange(2), ('Benign', 'Malignant'),rotation=0)\n",
    "plt.show()"
   ]
  },
  {
   "cell_type": "markdown",
   "metadata": {},
   "source": [
    "### The Scatterplot comparing the values in the Clump Thickness and Mitoses columns"
   ]
  },
  {
   "cell_type": "code",
   "execution_count": 14,
   "metadata": {},
   "outputs": [
    {
     "data": {
      "image/png": "[encoded data removed]",
      "text/plain": [
       "<Figure size 432x288 with 1 Axes>"
      ]
     },
     "metadata": {},
     "output_type": "display_data"
    }
   ],
   "source": [
    "#Plotting ScatterPlot \n",
    "data.plot(kind='scatter',x='A2',y='A10',alpha=0.3,color='green')\n",
    "plt.ylabel('Mitoses')\n",
    "plt.xlabel('Clump Thickness')\n",
    "plt.title('Mitoses vs Clump Thickness')\n",
    "plt.show()"
   ]
  },
  {
   "cell_type": "markdown",
   "metadata": {},
   "source": [
    "### Drop the 'Class' column from dataset for clustering"
   ]
  },
  {
   "cell_type": "code",
   "execution_count": 15,
   "metadata": {},
   "outputs": [],
   "source": [
    "cluster_data = data.drop(['CLASS'], axis = 1)"
   ]
  },
  {
   "cell_type": "markdown",
   "metadata": {},
   "source": [
    "### Create KMeans Model with 4 Clusters"
   ]
  },
  {
   "cell_type": "code",
   "execution_count": 16,
   "metadata": {},
   "outputs": [],
   "source": [
    "model = KMeans(n_clusters=4)"
   ]
  },
  {
   "cell_type": "markdown",
   "metadata": {},
   "source": [
    "### Fit KMeans Model to Data"
   ]
  },
  {
   "cell_type": "code",
   "execution_count": 17,
   "metadata": {},
   "outputs": [],
   "source": [
    "model.fit(cluster_data)\n",
    "labels = model.predict(cluster_data)"
   ]
  },
  {
   "cell_type": "markdown",
   "metadata": {},
   "source": [
    "### Create and print the KMeans Model Centroids"
   ]
  },
  {
   "cell_type": "code",
   "execution_count": 18,
   "metadata": {},
   "outputs": [
    {
     "name": "stdout",
     "output_type": "stream",
     "text": [
      "[[7.46478873 7.02816901 6.67605634 4.1971831  5.53521127 3.45322005\n",
      "  5.38028169 6.81690141 2.30985915]\n",
      " [2.94493392 1.24449339 1.36563877 1.29295154 2.03964758 1.3514006\n",
      "  2.06167401 1.20044053 1.07709251]\n",
      " [7.23404255 4.85106383 5.04255319 4.86170213 4.11702128 9.38297872\n",
      "  5.26595745 3.78723404 1.64893617]\n",
      " [6.7625     8.3875     8.425      7.75       6.775      9.2125\n",
      "  7.375      7.7375     3.7875    ]]\n"
     ]
    }
   ],
   "source": [
    "centroids = model.cluster_centers_\n",
    "print(centroids)"
   ]
  },
  {
   "cell_type": "markdown",
   "metadata": {},
   "source": [
    "### Create a range from 1 to 15 and an empty list for inertias values"
   ]
  },
  {
   "cell_type": "code",
   "execution_count": 19,
   "metadata": {},
   "outputs": [],
   "source": [
    "ks = range(1,15)\n",
    "inertias = []"
   ]
  },
  {
   "cell_type": "markdown",
   "metadata": {},
   "source": [
    "### Use a loop to calculate KMeans for each value"
   ]
  },
  {
   "cell_type": "code",
   "execution_count": 20,
   "metadata": {},
   "outputs": [],
   "source": [
    "for k in ks:\n",
    "    model2 = KMeans(n_clusters = k)\n",
    "    \n",
    "    model2.fit(cluster_data)\n",
    "    \n",
    "    inertias.append(model2.inertia_)"
   ]
  },
  {
   "cell_type": "markdown",
   "metadata": {},
   "source": [
    "### Plot Range and Inertia"
   ]
  },
  {
   "cell_type": "code",
   "execution_count": 21,
   "metadata": {},
   "outputs": [
    {
     "data": {
      "image/png": "[encoded data removed]",
      "text/plain": [
       "<Figure size 432x288 with 1 Axes>"
      ]
     },
     "metadata": {},
     "output_type": "display_data"
    }
   ],
   "source": [
    "plt.plot(ks, inertias, '-o')\n",
    "plt.xlabel('number of clusters, k')\n",
    "plt.ylabel('inertia')\n",
    "plt.xticks(ks)\n",
    "plt.title('Inertia vs Number of Clusters')\n",
    "plt.show()"
   ]
  },
  {
   "cell_type": "markdown",
   "metadata": {},
   "source": [
    "### To find the ideal number of clusters, we need to examine the inertia vs number of clusters plot.  A good clustering has low inertia.  However, we also do not want too many clusters.  To do this, we look for an elbow in the plot.  This is a place where the inertia begins to decrease more slowly.  Looking at the plot, the optimal number of clusters should be 3."
   ]
  },
  {
   "cell_type": "markdown",
   "metadata": {},
   "source": [
    "### Apply standard deviation function for columns A2-A10"
   ]
  },
  {
   "cell_type": "code",
   "execution_count": 37,
   "metadata": {},
   "outputs": [
    {
     "data": {
      "text/plain": [
       "pandas.core.series.Series"
      ]
     },
     "execution_count": 37,
     "metadata": {},
     "output_type": "execute_result"
    }
   ],
   "source": [
    "stddev=cluster_data.std(axis = 0)\n",
    "type(stddev)"
   ]
  },
  {
   "cell_type": "code",
   "execution_count": 38,
   "metadata": {
    "scrolled": false
   },
   "outputs": [
    {
     "name": "stdout",
     "output_type": "stream",
     "text": [
      "A2     2.815741\n",
      "A3     3.051459\n",
      "A4     2.971913\n",
      "A5     2.855379\n",
      "A6     2.214300\n",
      "A7     3.601852\n",
      "A8     2.438364\n",
      "A9     3.053634\n",
      "A10    1.715078\n",
      "dtype: float64\n"
     ]
    }
   ],
   "source": [
    "sd=pd.Series.to_frame(stddev)\n",
    "print(stddev)"
   ]
  },
  {
   "cell_type": "code",
   "execution_count": 40,
   "metadata": {
    "scrolled": false
   },
   "outputs": [
    {
     "data": {
      "image/png": "[encoded data removed]",
      "text/plain": [
       "<Figure size 432x288 with 1 Axes>"
      ]
     },
     "metadata": {},
     "output_type": "display_data"
    }
   ],
   "source": [
    "ax = sns.boxplot(data=sd)\n",
    "ax = sns.stripplot( data = sd, jitter=0.2, size=5.5, color = \"orange\")"
   ]
  },
  {
   "cell_type": "markdown",
   "metadata": {},
   "source": [
    "#### We could see that the spread of data from the above boxplot. We could notice that variable A7 has the highest varaition followed by A3, A4 and A2 respectiviely. The above box plots show the spread of data "
   ]
  },
  {
   "cell_type": "code",
   "execution_count": null,
   "metadata": {},
   "outputs": [],
   "source": [
    "sd.t=sd.T\n",
    "sd.t.boxplot()"
   ]
  },
  {
   "cell_type": "code",
   "execution_count": null,
   "metadata": {},
   "outputs": [],
   "source": [
    "plt.plot(sd)\n",
    "plt.xlabel('Variables')\n",
    "plt.ylabel('Standard Deviations')\n",
    "plt.title('Individual Variable varation of SD')"
   ]
  },
  {
   "cell_type": "markdown",
   "metadata": {},
   "source": [
    "### Above plots shows the individual vratiable stadnard deviation and we could clearly see that varable A7 has the highest varation"
   ]
  },
  {
   "cell_type": "markdown",
   "metadata": {},
   "source": [
    "### Implement Normalization"
   ]
  },
  {
   "cell_type": "code",
   "execution_count": null,
   "metadata": {},
   "outputs": [],
   "source": [
    "scaler = StandardScaler()\n",
    "kmeans = KMeans(n_clusters = 3)\n",
    "pipeline = make_pipeline(scaler, kmeans)\n",
    "pipeline.fit(cluster_data)\n",
    "new_labels = pipeline.predict(cluster_data)\n",
    "new_centroids = pipeline.named_steps['kmeans'].cluster_centers_\n",
    "print(new_centroids)"
   ]
  },
  {
   "cell_type": "code",
   "execution_count": null,
   "metadata": {},
   "outputs": [],
   "source": []
  }
 ],
 "metadata": {
  "kernelspec": {
   "display_name": "Python 3",
   "language": "python",
   "name": "python3"
  },
  "language_info": {
   "codemirror_mode": {
    "name": "ipython",
    "version": 3
   },
   "file_extension": ".py",
   "mimetype": "text/x-python",
   "name": "python",
   "nbconvert_exporter": "python",
   "pygments_lexer": "ipython3",
   "version": "3.6.5"
  }
 },
 "nbformat": 4,
 "nbformat_minor": 2
}
